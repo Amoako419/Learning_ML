{
 "cells": [
  {
   "cell_type": "code",
   "execution_count": 1,
   "id": "f793771b-4a37-4901-ad43-6a7e99d10eb3",
   "metadata": {},
   "outputs": [
    {
     "name": "stdout",
     "output_type": "stream",
     "text": [
      "After Transformation:\n",
      "          age    income  sex_female  sex_male  embarked_C  embarked_Q  \\\n",
      "0   0.350877  0.000000           0         1           0           0   \n",
      "1   4.210526  0.333333           1         0           1           0   \n",
      "2   6.140351  1.000000           0         1           0           1   \n",
      "3  10.000000  0.500000           1         0           0           0   \n",
      "4   0.000000  0.433333           0         1           0           0   \n",
      "\n",
      "   embarked_S  \n",
      "0           1  \n",
      "1           0  \n",
      "2           0  \n",
      "3           1  \n",
      "4           1  \n"
     ]
    }
   ],
   "source": [
    "# Import necessary modules\n",
    "import pandas as pd\n",
    "from sklearn.preprocessing import MinMaxScaler, OneHotEncoder\n",
    "\n",
    "# Define DataFrame\n",
    "df = pd.DataFrame({\n",
    "    'age': [23, 45, 56, 78, 21],\n",
    "    'income': [5000, 7000, 11000, 8000, 7600],\n",
    "    'sex': ['male', 'female', 'male', 'female', 'male'],\n",
    "    'embarked': ['S', 'C', 'Q', 'S', 'S']\n",
    "})\n",
    "\n",
    "# TODO: Apply MinMaxScaler on the 'age' feature (scale it within a range of 0 to 10)\n",
    "df['age']=MinMaxScaler(feature_range = (0,10)).fit_transform(df[['age']])\n",
    "\n",
    "# TODO: Apply MinMaxScaler on 'income' feature\n",
    "df['income']=MinMaxScaler().fit_transform(df[['income']])\n",
    "\n",
    "# TODO: Apply get_dummies on the 'sex' and 'embarked' features\n",
    "encoded_features = pd.get_dummies(df[['sex','embarked']])\n",
    "\n",
    "# TODO: Combine the original DataFrame with the encoded DataFrame\n",
    "df_encoded = pd.concat([df.drop(['sex','embarked'], axis=1),encoded_features],axis=1)\n",
    "\n",
    "print(\"After Transformation:\\n\", df_encoded)\n"
   ]
  }
 ],
 "metadata": {
  "kernelspec": {
   "display_name": "Python 3 (ipykernel)",
   "language": "python",
   "name": "python3"
  },
  "language_info": {
   "codemirror_mode": {
    "name": "ipython",
    "version": 3
   },
   "file_extension": ".py",
   "mimetype": "text/x-python",
   "name": "python",
   "nbconvert_exporter": "python",
   "pygments_lexer": "ipython3",
   "version": "3.11.5"
  }
 },
 "nbformat": 4,
 "nbformat_minor": 5
}
