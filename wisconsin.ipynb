{
 "cells": [
  {
   "cell_type": "code",
   "execution_count": 1,
   "metadata": {},
   "outputs": [
    {
     "name": "stdout",
     "output_type": "stream",
     "text": [
      "Number of instances: 569\n",
      "Number of target instances: 569\n",
      "Number of features: 30\n"
     ]
    }
   ],
   "source": [
    "# Import necessary modules\n",
    "from sklearn.datasets import load_breast_cancer\n",
    "\n",
    "# Load the dataset\n",
    "data = load_breast_cancer()\n",
    "\n",
    "# Print the number of rows (instances), columns (features) in the dataset, and the number of target instances\n",
    "print(\"Number of instances:\", len(data.data))\n",
    "# TODO: print the number of features\n",
    "print(\"Number of target instances:\", len(data.target))\n",
    "print(\"Number of features:\", len(data.feature_names))"
   ]
  },
  {
   "cell_type": "code",
   "execution_count": 2,
   "metadata": {},
   "outputs": [
    {
     "name": "stdout",
     "output_type": "stream",
     "text": [
      "{0: 212, 1: 357}\n"
     ]
    }
   ],
   "source": [
    "# Import necessary modules\n",
    "from sklearn.datasets import load_breast_cancer\n",
    "import numpy as np\n",
    "\n",
    "# Load the dataset\n",
    "data = load_breast_cancer()\n",
    "\n",
    "# Intentional Bug: 'np.unique' should be used to find unique elements and their counts\n",
    "# The current code tries to directly create a dictionary, which will not provide the correct counts\n",
    "unique,counts = np.unique(data.target,return_counts = True)\n",
    "print(dict(zip(unique,counts)))"
   ]
  },
  {
   "cell_type": "code",
   "execution_count": 3,
   "metadata": {},
   "outputs": [
    {
     "name": "stdout",
     "output_type": "stream",
     "text": [
      "       mean radius  mean texture  mean perimeter    mean area  \\\n",
      "count   569.000000    569.000000      569.000000   569.000000   \n",
      "mean     14.127292     19.289649       91.969033   654.889104   \n",
      "std       3.524049      4.301036       24.298981   351.914129   \n",
      "min       6.981000      9.710000       43.790000   143.500000   \n",
      "25%      11.700000     16.170000       75.170000   420.300000   \n",
      "50%      13.370000     18.840000       86.240000   551.100000   \n",
      "75%      15.780000     21.800000      104.100000   782.700000   \n",
      "max      28.110000     39.280000      188.500000  2501.000000   \n",
      "\n",
      "       mean smoothness  mean compactness  mean concavity  mean concave points  \\\n",
      "count       569.000000        569.000000      569.000000           569.000000   \n",
      "mean          0.096360          0.104341        0.088799             0.048919   \n",
      "std           0.014064          0.052813        0.079720             0.038803   \n",
      "min           0.052630          0.019380        0.000000             0.000000   \n",
      "25%           0.086370          0.064920        0.029560             0.020310   \n",
      "50%           0.095870          0.092630        0.061540             0.033500   \n",
      "75%           0.105300          0.130400        0.130700             0.074000   \n",
      "max           0.163400          0.345400        0.426800             0.201200   \n",
      "\n",
      "       mean symmetry  mean fractal dimension  ...  worst radius  \\\n",
      "count     569.000000              569.000000  ...    569.000000   \n",
      "mean        0.181162                0.062798  ...     16.269190   \n",
      "std         0.027414                0.007060  ...      4.833242   \n",
      "min         0.106000                0.049960  ...      7.930000   \n",
      "25%         0.161900                0.057700  ...     13.010000   \n",
      "50%         0.179200                0.061540  ...     14.970000   \n",
      "75%         0.195700                0.066120  ...     18.790000   \n",
      "max         0.304000                0.097440  ...     36.040000   \n",
      "\n",
      "       worst texture  worst perimeter   worst area  worst smoothness  \\\n",
      "count     569.000000       569.000000   569.000000        569.000000   \n",
      "mean       25.677223       107.261213   880.583128          0.132369   \n",
      "std         6.146258        33.602542   569.356993          0.022832   \n",
      "min        12.020000        50.410000   185.200000          0.071170   \n",
      "25%        21.080000        84.110000   515.300000          0.116600   \n",
      "50%        25.410000        97.660000   686.500000          0.131300   \n",
      "75%        29.720000       125.400000  1084.000000          0.146000   \n",
      "max        49.540000       251.200000  4254.000000          0.222600   \n",
      "\n",
      "       worst compactness  worst concavity  worst concave points  \\\n",
      "count         569.000000       569.000000            569.000000   \n",
      "mean            0.254265         0.272188              0.114606   \n",
      "std             0.157336         0.208624              0.065732   \n",
      "min             0.027290         0.000000              0.000000   \n",
      "25%             0.147200         0.114500              0.064930   \n",
      "50%             0.211900         0.226700              0.099930   \n",
      "75%             0.339100         0.382900              0.161400   \n",
      "max             1.058000         1.252000              0.291000   \n",
      "\n",
      "       worst symmetry  worst fractal dimension  \n",
      "count      569.000000               569.000000  \n",
      "mean         0.290076                 0.083946  \n",
      "std          0.061867                 0.018061  \n",
      "min          0.156500                 0.055040  \n",
      "25%          0.250400                 0.071460  \n",
      "50%          0.282200                 0.080040  \n",
      "75%          0.317900                 0.092080  \n",
      "max          0.663800                 0.207500  \n",
      "\n",
      "[8 rows x 30 columns]\n"
     ]
    }
   ],
   "source": [
    "# Import the necessary module\n",
    "import pandas as pd\n",
    "from sklearn.datasets import load_breast_cancer\n",
    "\n",
    "# Load the dataset\n",
    "data = load_breast_cancer()\n",
    "\n",
    "# Extract features and target variable\n",
    "X = data.data\n",
    "y = data.target\n",
    "\n",
    "# Convert features to DataFrame\n",
    "data_df = pd.DataFrame(X, columns=data.feature_names)\n",
    "\n",
    "# Display the summary statistics for the DataFrame\n",
    "print(data_df.describe())\n"
   ]
  },
  {
   "cell_type": "code",
   "execution_count": 1,
   "metadata": {},
   "outputs": [
    {
     "name": "stdout",
     "output_type": "stream",
     "text": [
      "Best parameters: {'C': 1}\n"
     ]
    }
   ],
   "source": [
    "from sklearn.datasets import load_breast_cancer\n",
    "from sklearn.model_selection import train_test_split\n",
    "from sklearn.preprocessing import StandardScaler\n",
    "from sklearn.linear_model import LogisticRegression\n",
    "from sklearn.model_selection import GridSearchCV\n",
    "\n",
    "# Load dataset\n",
    "data = load_breast_cancer()\n",
    "X, y = data.data, data.target\n",
    "\n",
    "# Split into training and testing sets\n",
    "X_train, X_test, y_train, y_test = train_test_split(X, y, test_size=0.3, random_state=42)\n",
    "\n",
    "# Scale the data for optimal performance\n",
    "scaler = StandardScaler()\n",
    "X_train_scaled = scaler.fit_transform(X_train)\n",
    "X_test_scaled = scaler.transform(X_test)\n",
    "\n",
    "# TODO: Define the parameter grid to search for the optimal 'C' value\n",
    "param_grid = {'C' : [0.001,0.01,0.1,1,10,100]}\n",
    "\n",
    "# TODO: Instantiate GridSearchCV with LogisticRegression and the defined parameter grid\n",
    "grid_search = GridSearchCV(LogisticRegression(max_iter = 10000),param_grid,cv=5)\n",
    "\n",
    "# Fit the grid with data\n",
    "grid_search.fit(X_train_scaled, y_train)\n",
    "\n",
    "# Print the best parameters\n",
    "print(\"Best parameters:\", grid_search.best_params_)"
   ]
  },
  {
   "cell_type": "code",
   "execution_count": 2,
   "metadata": {},
   "outputs": [
    {
     "name": "stdout",
     "output_type": "stream",
     "text": [
      "Best parameters: {'C': 1}\n"
     ]
    }
   ],
   "source": [
    "from sklearn.datasets import load_breast_cancer\n",
    "from sklearn.model_selection import train_test_split\n",
    "from sklearn.preprocessing import StandardScaler\n",
    "from sklearn.linear_model import LogisticRegression\n",
    "from sklearn.model_selection import GridSearchCV\n",
    "\n",
    "# TODO: Load the breast cancer dataset and split it into training and testing sets\n",
    "data = load_breast_cancer()\n",
    "X = data.data\n",
    "y = data.target\n",
    "\n",
    "X_train,X_test,y_train,y_test = train_test_split(X,y,test_size = 0.3,random_state = 43)\n",
    "\n",
    "# TODO: Scale the training and testing data\n",
    "scaler = StandardScaler()\n",
    "X_train_scaled = scaler.fit_transform(X_train)\n",
    "X_test_scaled = scaler.transform(X_test)\n",
    "\n",
    "# TODO: Define a parameter grid with 'C' values ranging from very small to large and both L1 and L2 penalties\n",
    "param_grid = {'C':[0.001,0.01,0.1,1,10,100]}\n",
    "# TODO: Instantiate GridSearchCV with a LogisticRegression solver set to the parameter grid, and a 5-fold cross-validation\n",
    "grid_search = GridSearchCV(LogisticRegression(max_iter = 10000),param_grid,cv=5)\n",
    "\n",
    "# TODO: Fit the grid search object to the scaled training data and print out the best parameters found\n",
    "grid_search.fit(X_train_scaled,y_train)\n",
    "print(\"Best parameters:\", grid_search.best_params_)"
   ]
  },
  {
   "cell_type": "code",
   "execution_count": 3,
   "metadata": {},
   "outputs": [
    {
     "name": "stdout",
     "output_type": "stream",
     "text": [
      "Best parameters: {'max_depth': 5, 'min_samples_split': 2}\n"
     ]
    }
   ],
   "source": [
    "# Import the necessary libraries\n",
    "from sklearn.model_selection import GridSearchCV\n",
    "from sklearn.tree import DecisionTreeClassifier\n",
    "from sklearn.datasets import load_breast_cancer\n",
    "from sklearn.model_selection import train_test_split\n",
    "from sklearn.preprocessing import StandardScaler\n",
    "\n",
    "# Load the Breast Cancer dataset\n",
    "data = load_breast_cancer()\n",
    "X = data.data\n",
    "y = data.target\n",
    "\n",
    "# Standardize the features\n",
    "scaler = StandardScaler()\n",
    "X_scaled = scaler.fit_transform(X)\n",
    "\n",
    "# Split the dataset into training and test sets\n",
    "X_train_scaled, X_test_scaled, y_train, y_test = train_test_split(X_scaled, y, test_size=0.2, random_state=42)\n",
    "\n",
    "# Parameter values under consideration\n",
    "param_grid = {'max_depth': range(3, 10), 'min_samples_split': range(2, 4)}\n",
    "\n",
    "# Creating the GridSearchCV object\n",
    "grid_search = GridSearchCV(DecisionTreeClassifier(), param_grid, cv=5)\n",
    "\n",
    "# Fitting the model to our training data\n",
    "grid_search.fit(X_train_scaled, y_train)\n",
    "\n",
    "# Fetching and printing the best found parameters\n",
    "print(\"Best parameters:\", grid_search.best_params_)"
   ]
  },
  {
   "cell_type": "code",
   "execution_count": 1,
   "metadata": {},
   "outputs": [
    {
     "name": "stdout",
     "output_type": "stream",
     "text": [
      "Accuracy of L1 Regularized Model: 0.98\n"
     ]
    }
   ],
   "source": [
    "# Import the necessary libraries\n",
    "from sklearn.datasets import load_breast_cancer\n",
    "from sklearn.linear_model import LogisticRegression\n",
    "from sklearn.model_selection import train_test_split\n",
    "from sklearn.metrics import accuracy_score\n",
    "\n",
    "# Load the Breast Cancer Wisconsin Dataset\n",
    "data = load_breast_cancer()\n",
    "\n",
    "# Splitting the dataset into train and test sets\n",
    "X_train, X_test, Y_train, Y_test = train_test_split(data.data, data.target, test_size=0.3, random_state=42)\n",
    "\n",
    "# Applying L1 regularization on Logistic Regression and training the model\n",
    "logistic_l1 = LogisticRegression(penalty='l2', C=0.1, solver='liblinear', max_iter=10000)\n",
    "logistic_l1.fit(X_train, Y_train)\n",
    "Y_pred = logistic_l1.predict(X_test)\n",
    "print(f\"Accuracy of L1 Regularized Model: {accuracy_score(Y_test, Y_pred):.2f}\")"
   ]
  },
  {
   "cell_type": "code",
   "execution_count": 2,
   "metadata": {},
   "outputs": [
    {
     "name": "stdout",
     "output_type": "stream",
     "text": [
      "Accuracy of L2 Regularized Model: 0.98\n"
     ]
    }
   ],
   "source": [
    "# Import the necessary libraries\n",
    "from sklearn.datasets import load_breast_cancer\n",
    "from sklearn.linear_model import LogisticRegression\n",
    "from sklearn.model_selection import train_test_split\n",
    "from sklearn.metrics import accuracy_score\n",
    "\n",
    "# Load the Breast Cancer Wisconsin Dataset\n",
    "data = load_breast_cancer()\n",
    "\n",
    "# Splitting the dataset into train and test sets\n",
    "X_train, X_test, Y_train, Y_test = train_test_split(data.data, data.target, test_size=0.3, random_state=42)\n",
    "\n",
    "# TODO: Apply L2 regularization on Logistic Regression and train the model\n",
    "logistic_l2 = LogisticRegression(penalty='l2',C=0.1,solver='liblinear',max_iter=10000)\n",
    "# Hint: Use LogisticRegression with appropriate parameters for L2 regularization\n",
    "logistic_l2.fit(X_train,Y_train)\n",
    "# Predicting the test set results\n",
    "Y_pred = logistic_l2.predict(X_test)\n",
    "# accuracy_score = accuracy_score(Y_test,Y_pred)\n",
    "# TODO: Calculate and print the accuracy of the model\n",
    "print(f\"Accuracy of L2 Regularized Model: {accuracy_score(Y_test, Y_pred):.2f}\")\n",
    "# Hint: Use the accuracy_score function and print the result"
   ]
  },
  {
   "cell_type": "code",
   "execution_count": 1,
   "metadata": {},
   "outputs": [
    {
     "name": "stdout",
     "output_type": "stream",
     "text": [
      "RandomForest Accuracy:  0.9649122807017544\n"
     ]
    }
   ],
   "source": [
    "# Import necessary libraries\n",
    "from sklearn.ensemble import RandomForestClassifier\n",
    "from sklearn.datasets import load_breast_cancer\n",
    "from sklearn.model_selection import train_test_split\n",
    "\n",
    "# Load the dataset\n",
    "data = load_breast_cancer()\n",
    "X, y = data.data, data.target\n",
    "\n",
    "# Split the dataset into training and testing sets\n",
    "X_train, X_test, y_train, y_test = train_test_split(X, y, test_size=0.2, random_state=42)\n",
    "\n",
    "# Train a RandomForestClassifier\n",
    "rfc = RandomForestClassifier(n_estimators=150, max_features='sqrt') # Your code here (modify the number of estimators)\n",
    "rfc.fit(X_train, y_train) # Fit the classifier on the training set\n",
    "\n",
    "# Predict on the testing set\n",
    "y_pred = rfc.predict(X_test)\n",
    "\n",
    "# Print accuracy score\n",
    "print('RandomForest Accuracy: ', rfc.score(X_test, y_test))"
   ]
  },
  {
   "cell_type": "code",
   "execution_count": 2,
   "metadata": {},
   "outputs": [
    {
     "name": "stdout",
     "output_type": "stream",
     "text": [
      "GradientBoosting Accuracy: 0.9824561403508771\n"
     ]
    }
   ],
   "source": [
    "from sklearn.ensemble import GradientBoostingClassifier\n",
    "from sklearn.datasets import load_breast_cancer\n",
    "from sklearn.model_selection import train_test_split\n",
    "\n",
    "\n",
    "# TODO: Load the dataset\n",
    "data = load_breast_cancer()\n",
    "# TODO: Assign X and y\n",
    "X,y = data.data,data.target\n",
    "\n",
    "# TODO: Split the dataset into training and testing sets\n",
    "X_train,X_test,y_train,y_test = train_test_split(X,y,test_size=0.2,random_state=43)\n",
    "\n",
    "# Train a GradientBoostingClassifier with adjusted number of estimators\n",
    "gbc = GradientBoostingClassifier(n_estimators=200, learning_rate=0.1, max_depth=3) # Adjusted number of sequential trees\n",
    "gbc.fit(X_train, y_train) # fit the classifier on the training set\n",
    "\n",
    "# Predict on the testing set\n",
    "y_pred = gbc.predict(X_test)\n",
    "\n",
    "# Print accuracy score\n",
    "print('GradientBoosting Accuracy:', gbc.score(X_test, y_test))"
   ]
  },
  {
   "cell_type": "code",
   "execution_count": 3,
   "metadata": {},
   "outputs": [
    {
     "name": "stdout",
     "output_type": "stream",
     "text": [
      "The accuracy : 0.9736842105263158\n"
     ]
    }
   ],
   "source": [
    "# Import necessary libraries\n",
    "from sklearn.ensemble import GradientBoostingClassifier\n",
    "from sklearn.datasets import load_breast_cancer\n",
    "from sklearn.model_selection import train_test_split\n",
    "\n",
    "# TODO: Load the Wisconsin breast cancer dataset into X, y\n",
    "data = load_breast_cancer()\n",
    "X,y = data.data,data.target\n",
    "\n",
    "# TODO: Split the dataset into a training set and a testing set\n",
    "X_train,X_test,y_train,y_test = train_test_split(X,y,test_size = 0.2,random_state=43)\n",
    "\n",
    "# TODO: Instantiate a GradientBoostingClassifier with an adjusted learning rate\n",
    "gbc = GradientBoostingClassifier(n_estimators=100,learning_rate=0.1,max_depth=5)\n",
    "\n",
    "# TODO: Fit the classifier on the training data\n",
    "gbc.fit(X_train,y_train)\n",
    "\n",
    "# TODO: Predict the labels for the test set and print the accuracy score\n",
    "y_pred = gbc.predict(X_test)\n",
    "accurancy = gbc.score(X_test,y_test)\n",
    "print('The accuracy :',accurancy)"
   ]
  },
  {
   "cell_type": "code",
   "execution_count": null,
   "metadata": {},
   "outputs": [],
   "source": [
    "# Import the necessary libraries\n",
    "from sklearn.datasets import load_breast_cancer\n",
    "from sklearn.model_selection import train_test_split\n",
    "from sklearn.linear_model import LogisticRegression\n",
    "from sklearn.metrics import accuracy_score, classification_report\n",
    "from sklearn.preprocessing import StandardScaler\n",
    "from sklearn.ensemble import RandomForestClassifier\n",
    "\n",
    "# Load the data\n",
    "data = load_breast_cancer()\n",
    "X = data['data']\n",
    "y = data['target']\n",
    "\n",
    "# Split data into training and test sets\n",
    "X_train, X_test, y_train, y_test = train_test_split(X, y, random_state=42)\n",
    "\n",
    "# TODO: Scale the training and testing features using the right scaler\n",
    "scaler = StandardScaler()\n",
    "X_train_scaled = scaler.fit_transform(X_train)\n",
    "X_test_scaled = scaler.transform(X_test)\n",
    "\n",
    "# Apply Logistic Regression with the scaled data\n",
    "lr = LogisticRegression(random_state=42, max_iter=1000)\n",
    "# TODO: Fit the Logistic Regression model on the scaled training data\n",
    "lr.fit(X_train_scaled,y_train)\n",
    "# Make predictions\n",
    "# TODO: Replace this with actual scaled test data variable\n",
    "lr_pred = lr.predict(X_test_scaled)\n",
    "\n",
    "# Print accuracy score and classification report for logistic regression\n",
    "print(\"Logistic Regression Accuracy: \", accuracy_score(y_test, lr_pred))\n",
    "print(\"Logistic Regression Classification Report:\\n\", classification_report(y_test, lr_pred))\n",
    "\n",
    "# TODO: Apply Random Forest with the scaled data\n",
    "rf = RandomForestClassifier()\n",
    "rf.fit(X_train_scaled,y_train)\n",
    "\n",
    "# Make predictions\n",
    "rf_pred = rf.predict(X_test_scaled)\n",
    "\n",
    "# Print accuracy score and classification report for random forest\n",
    "print(\"Random Forest Accuracy:\", accuracy_score(y_test, rf_pred))\n",
    "print(\"Random Forest Classification Report:\\n\", classification_report(y_test, rf_pred))"
   ]
  },
  {
   "cell_type": "code",
   "execution_count": 1,
   "metadata": {},
   "outputs": [
    {
     "name": "stdout",
     "output_type": "stream",
     "text": [
      "Accuracy : 0.3684210526315789\n",
      "Evaluation performance : 0.3684210526315789\n",
      "Accuracy score : 0.3684210526315789\n"
     ]
    }
   ],
   "source": [
    "# Import necessary libraries\n",
    "from sklearn.datasets import load_breast_cancer\n",
    "from sklearn.model_selection import train_test_split,GridSearchCV\n",
    "from sklearn.linear_model import LogisticRegression\n",
    "from sklearn.metrics import accuracy_score, classification_report\n",
    "from sklearn.preprocessing import StandardScaler\n",
    "from sklearn.ensemble import RandomForestClassifier,GradientBoostingClassifier\n",
    "\n",
    "# TODO: Load and split the dataset into training and testing sets\n",
    "data = load_breast_cancer()\n",
    "X = data['data']\n",
    "y = data['target']\n",
    "\n",
    "X_train, X_test, y_train, y_test = train_test_split(X, y, test_size=0.2,random_state=1)\n",
    "\n",
    "# TODO: Scale the training and testing features using the right scaler\n",
    "scaler = StandardScaler()\n",
    "X_train_scaled = scaler.fit_transform(X_train)\n",
    "X_test_scaled = scaler.transform(X_test)\n",
    "\n",
    "# TODO: Set up logistic regression with hyperparameter tuning via GridSearchCV\n",
    "# and then fit it to the scaled training data\n",
    "lr_params = {'C':[0.001,0.01,0.1,1,10,100],'penalty':['l2']}\n",
    "lr = LogisticRegression(random_state=42,max_iter=1000)\n",
    "clf_lr = GridSearchCV(lr,lr_params,cv=5)\n",
    "clf_lr.fit(X_train_scaled,y_train)\n",
    "\n",
    "# TODO: Evaluate the performance of the tuned Logistic Regression model\n",
    "y_pred = clf_lr.predict(X_test)\n",
    "print(\"Accuracy :\",accuracy_score(y_test,y_pred))\n",
    "\n",
    "# TODO: Set up and fit the Random Forest Classifier to the scaled training data\n",
    "rf = RandomForestClassifier(random_state=42)\n",
    "rf.fit(X_train_scaled,y_train)\n",
    "# TODO: Evaluate the performance of Random Forest\n",
    "rf_pred = rf.predict(X_test)\n",
    "print(\"Evaluation performance :\",accuracy_score(y_test,rf_pred))\n",
    "\n",
    "# TODO: Set up and fit the Gradient Boosting Classifier to the scaled training data\n",
    "gbc = GradientBoostingClassifier(random_state=42)\n",
    "gbc.fit(X_train_scaled,y_train)\n",
    "gbc_pred = gbc.predict(X_test)\n",
    "# TODO: Evaluate the performance of Gradient Boosting\n",
    "print(\"Accuracy score :\",accuracy_score(y_test,gbc_pred))\n",
    "\n",
    "# TODO: Select the best-performing model based on the evaluation metrics\n",
    "\n",
    "# TODO: Evaluate the selected final model with accuracy and classification report"
   ]
  }
 ],
 "metadata": {
  "kernelspec": {
   "display_name": "base",
   "language": "python",
   "name": "python3"
  },
  "language_info": {
   "codemirror_mode": {
    "name": "ipython",
    "version": 3
   },
   "file_extension": ".py",
   "mimetype": "text/x-python",
   "name": "python",
   "nbconvert_exporter": "python",
   "pygments_lexer": "ipython3",
   "version": "3.11.7"
  }
 },
 "nbformat": 4,
 "nbformat_minor": 2
}
