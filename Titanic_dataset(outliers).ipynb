{
  "nbformat": 4,
  "nbformat_minor": 0,
  "metadata": {
    "colab": {
      "provenance": [],
      "authorship_tag": "ABX9TyMyywwwHXCTKGHXbKI0RjpX",
      "include_colab_link": true
    },
    "kernelspec": {
      "name": "python3",
      "display_name": "Python 3"
    },
    "language_info": {
      "name": "python"
    }
  },
  "cells": [
    {
      "cell_type": "markdown",
      "metadata": {
        "id": "view-in-github",
        "colab_type": "text"
      },
      "source": [
        "<a href=\"https://colab.research.google.com/github/Amoako419/Learning_ML/blob/main/Titanic_dataset(outliers).ipynb\" target=\"_parent\"><img src=\"https://colab.research.google.com/assets/colab-badge.svg\" alt=\"Open In Colab\"/></a>"
      ]
    },
    {
      "cell_type": "code",
      "execution_count": 1,
      "metadata": {
        "colab": {
          "base_uri": "https://localhost:8080/"
        },
        "id": "2Rc0-5Nn-nSL",
        "outputId": "bc596d32-2409-46e1-dd07-2e59c1707112"
      },
      "outputs": [
        {
          "output_type": "stream",
          "name": "stdout",
          "text": [
            "Outliers in 'Age' using Z-score: \n",
            " 96     71.0\n",
            "116    70.5\n",
            "493    71.0\n",
            "630    80.0\n",
            "672    70.0\n",
            "745    70.0\n",
            "851    74.0\n",
            "Name: age, dtype: float64\n",
            "Outliers in 'Fare' using Z-score: \n",
            " 27     263.0000\n",
            "88     263.0000\n",
            "118    247.5208\n",
            "258    512.3292\n",
            "299    247.5208\n",
            "311    262.3750\n",
            "341    263.0000\n",
            "377    211.5000\n",
            "380    227.5250\n",
            "438    263.0000\n",
            "679    512.3292\n",
            "689    211.3375\n",
            "700    227.5250\n",
            "716    227.5250\n",
            "730    211.3375\n",
            "737    512.3292\n",
            "742    262.3750\n",
            "779    211.3375\n",
            "Name: fare, dtype: float64\n"
          ]
        }
      ],
      "source": [
        "# Import the necessary libraries\n",
        "import pandas as pd\n",
        "import numpy as np\n",
        "import seaborn as sns\n",
        "\n",
        "# Load the Titanic Dataset\n",
        "titanic_df = sns.load_dataset('titanic')\n",
        "\n",
        "# Ensure that 'age' and 'fare' columns do not have null values\n",
        "titanic_df = titanic_df.dropna(subset=['age', 'fare'])\n",
        "\n",
        "# Compute Z-scores for 'age' and 'fare' using sample standard deviation (ddof=1)\n",
        "mean_age = np.mean(titanic_df['age'])\n",
        "std_dev_age = np.std(titanic_df['age'], ddof=1)\n",
        "Z_scores_age = (titanic_df['age'] - mean_age) / std_dev_age\n",
        "outliers_age = titanic_df['age'][np.abs(Z_scores_age) > 2.5]\n",
        "\n",
        "# TODO: Calculate the mean and sample standard deviation for the 'fare' column, then compute the Z-scores.\n",
        "mean_fare = np.mean(titanic_df['fare'])\n",
        "std_dev_fare = np.std(titanic_df['fare'], ddof=1)\n",
        "Z_scores_fare = (titanic_df['fare'] - mean_fare) / std_dev_fare\n",
        "outliers_fare = titanic_df['fare'][np.abs(Z_scores_fare) > 2.5]\n",
        "\n",
        "# Print the outliers\n",
        "print(\"Outliers in 'Age' using Z-score: \\n\", outliers_age)\n",
        "# TODO: Print the outliers for 'fare' using Z-scores.\n",
        "print(\"Outliers in 'Fare' using Z-score: \\n\", outliers_fare)"
      ]
    },
    {
      "cell_type": "markdown",
      "source": [
        "# **Outliers in age using inter quatile range implementation**"
      ],
      "metadata": {
        "id": "In9ReCuOB1Pk"
      }
    },
    {
      "cell_type": "code",
      "source": [
        "# Import the necessary libraries\n",
        "import numpy as np\n",
        "import seaborn as sns\n",
        "\n",
        "# TODO: Load the Titanic dataset and store it in a variable named 'titanic_df'\n",
        "data = sns.load_dataset('titanic')\n",
        "# TODO: Drop any rows with missing values in the 'age' column\n",
        "ageNA = data['age'].dropna().isnull().sum()\n",
        "# TODO: Calculate the first and third quartile of the 'age' column and store them in variables 'Q1_age' and 'Q3_age'\n",
        "Q1_age = data['age'].quantile(0.25)\n",
        "Q3_age = data['age'].quantile(0.75)\n",
        "# TODO: Calculate the Interquartile Range (IQR) for the 'age' column and store it in a variable 'IQR_age'\n",
        "IQR_age = Q3_age - Q1_age\n",
        "# TODO: Using IQR, identify any age values that are outliers and store them in a variable called 'outliers_age'\n",
        "outliers_age = data['age'][(data['age']<(Q1_age-1.5 * IQR_age))| (data['age']>(Q3_age + 1.5 * IQR_age))]\n",
        "# TODO: Output the outliers found in the 'age' column\n",
        "print(outliers_age)"
      ],
      "metadata": {
        "colab": {
          "base_uri": "https://localhost:8080/"
        },
        "id": "8XIyJlqaCC7w",
        "outputId": "b8ffbb5b-918c-4e66-f387-0345db76d7bf"
      },
      "execution_count": 2,
      "outputs": [
        {
          "output_type": "stream",
          "name": "stdout",
          "text": [
            "33     66.0\n",
            "54     65.0\n",
            "96     71.0\n",
            "116    70.5\n",
            "280    65.0\n",
            "456    65.0\n",
            "493    71.0\n",
            "630    80.0\n",
            "672    70.0\n",
            "745    70.0\n",
            "851    74.0\n",
            "Name: age, dtype: float64\n"
          ]
        }
      ]
    },
    {
      "cell_type": "code",
      "source": [
        "# Import the necessary libraries\n",
        "import numpy as np\n",
        "import seaborn as sns\n",
        "\n",
        "# Load the Titanic Dataset\n",
        "titanic_df = sns.load_dataset('titanic')\n",
        "\n",
        "# TODO: Ensure that 'age' column does not have null values\n",
        "titanic_df.dropna(subset=['age'],inplace = True)\n",
        "# TODO: Compute IQR for 'age' by finding the first and third quartile and their difference\n",
        "Q1 = titanic_df['age'].quantile(0.25)\n",
        "Q3 = titanic_df['age'].quantile(0.75)\n",
        "IQR = Q3 - Q1\n",
        "# TODO: Using the computed IQR, identify and assign the outliers in 'age' to the variable outliers_age\n",
        "outliers_age = titanic_df['age'][(titanic_df['age']<(Q1 - 1.5 * IQR)) | (titanic_df['age']>(Q3+1.5*IQR))]\n",
        "# Print the outliers\n",
        "print(\"Outliers in 'Age' using IQR: \\n\", outliers_age)"
      ],
      "metadata": {
        "colab": {
          "base_uri": "https://localhost:8080/"
        },
        "id": "kR0zHVB8EtUR",
        "outputId": "608231f7-ec44-479b-e560-1d510b0db0dd"
      },
      "execution_count": 3,
      "outputs": [
        {
          "output_type": "stream",
          "name": "stdout",
          "text": [
            "Outliers in 'Age' using IQR: \n",
            " 33     66.0\n",
            "54     65.0\n",
            "96     71.0\n",
            "116    70.5\n",
            "280    65.0\n",
            "456    65.0\n",
            "493    71.0\n",
            "630    80.0\n",
            "672    70.0\n",
            "745    70.0\n",
            "851    74.0\n",
            "Name: age, dtype: float64\n"
          ]
        }
      ]
    }
  ]
}