{
  "cells": [
    {
      "cell_type": "markdown",
      "metadata": {
        "colab_type": "text",
        "id": "view-in-github"
      },
      "source": [
        "<a href=\"https://colab.research.google.com/github/Amoako419/Learning_ML/blob/main/Titanic_dataset(outliers).ipynb\" target=\"_parent\"><img src=\"https://colab.research.google.com/assets/colab-badge.svg\" alt=\"Open In Colab\"/></a>"
      ]
    },
    {
      "cell_type": "code",
      "execution_count": null,
      "metadata": {
        "colab": {
          "base_uri": "https://localhost:8080/"
        },
        "id": "2Rc0-5Nn-nSL",
        "outputId": "bc596d32-2409-46e1-dd07-2e59c1707112"
      },
      "outputs": [
        {
          "name": "stdout",
          "output_type": "stream",
          "text": [
            "Outliers in 'Age' using Z-score: \n",
            " 96     71.0\n",
            "116    70.5\n",
            "493    71.0\n",
            "630    80.0\n",
            "672    70.0\n",
            "745    70.0\n",
            "851    74.0\n",
            "Name: age, dtype: float64\n",
            "Outliers in 'Fare' using Z-score: \n",
            " 27     263.0000\n",
            "88     263.0000\n",
            "118    247.5208\n",
            "258    512.3292\n",
            "299    247.5208\n",
            "311    262.3750\n",
            "341    263.0000\n",
            "377    211.5000\n",
            "380    227.5250\n",
            "438    263.0000\n",
            "679    512.3292\n",
            "689    211.3375\n",
            "700    227.5250\n",
            "716    227.5250\n",
            "730    211.3375\n",
            "737    512.3292\n",
            "742    262.3750\n",
            "779    211.3375\n",
            "Name: fare, dtype: float64\n"
          ]
        }
      ],
      "source": [
        "# Import the necessary libraries\n",
        "import pandas as pd\n",
        "import numpy as np\n",
        "import seaborn as sns\n",
        "\n",
        "# Load the Titanic Dataset\n",
        "titanic_df = sns.load_dataset('titanic')\n",
        "\n",
        "# Ensure that 'age' and 'fare' columns do not have null values\n",
        "titanic_df = titanic_df.dropna(subset=['age', 'fare'])\n",
        "\n",
        "# Compute Z-scores for 'age' and 'fare' using sample standard deviation (ddof=1)\n",
        "mean_age = np.mean(titanic_df['age'])\n",
        "std_dev_age = np.std(titanic_df['age'], ddof=1)\n",
        "Z_scores_age = (titanic_df['age'] - mean_age) / std_dev_age\n",
        "outliers_age = titanic_df['age'][np.abs(Z_scores_age) > 2.5]\n",
        "\n",
        "# TODO: Calculate the mean and sample standard deviation for the 'fare' column, then compute the Z-scores.\n",
        "mean_fare = np.mean(titanic_df['fare'])\n",
        "std_dev_fare = np.std(titanic_df['fare'], ddof=1)\n",
        "Z_scores_fare = (titanic_df['fare'] - mean_fare) / std_dev_fare\n",
        "outliers_fare = titanic_df['fare'][np.abs(Z_scores_fare) > 2.5]\n",
        "\n",
        "# Print the outliers\n",
        "print(\"Outliers in 'Age' using Z-score: \\n\", outliers_age)\n",
        "# TODO: Print the outliers for 'fare' using Z-scores.\n",
        "print(\"Outliers in 'Fare' using Z-score: \\n\", outliers_fare)"
      ]
    },
    {
      "cell_type": "markdown",
      "metadata": {
        "id": "In9ReCuOB1Pk"
      },
      "source": [
        "# **Outliers in age using inter quatile range implementation**"
      ]
    },
    {
      "cell_type": "code",
      "execution_count": null,
      "metadata": {
        "colab": {
          "base_uri": "https://localhost:8080/"
        },
        "id": "8XIyJlqaCC7w",
        "outputId": "b8ffbb5b-918c-4e66-f387-0345db76d7bf"
      },
      "outputs": [
        {
          "name": "stdout",
          "output_type": "stream",
          "text": [
            "33     66.0\n",
            "54     65.0\n",
            "96     71.0\n",
            "116    70.5\n",
            "280    65.0\n",
            "456    65.0\n",
            "493    71.0\n",
            "630    80.0\n",
            "672    70.0\n",
            "745    70.0\n",
            "851    74.0\n",
            "Name: age, dtype: float64\n"
          ]
        }
      ],
      "source": [
        "# Import the necessary libraries\n",
        "import numpy as np\n",
        "import seaborn as sns\n",
        "\n",
        "# TODO: Load the Titanic dataset and store it in a variable named 'titanic_df'\n",
        "data = sns.load_dataset('titanic')\n",
        "# TODO: Drop any rows with missing values in the 'age' column\n",
        "ageNA = data['age'].dropna().isnull().sum()\n",
        "# TODO: Calculate the first and third quartile of the 'age' column and store them in variables 'Q1_age' and 'Q3_age'\n",
        "Q1_age = data['age'].quantile(0.25)\n",
        "Q3_age = data['age'].quantile(0.75)\n",
        "# TODO: Calculate the Interquartile Range (IQR) for the 'age' column and store it in a variable 'IQR_age'\n",
        "IQR_age = Q3_age - Q1_age\n",
        "# TODO: Using IQR, identify any age values that are outliers and store them in a variable called 'outliers_age'\n",
        "outliers_age = data['age'][(data['age']<(Q1_age-1.5 * IQR_age))| (data['age']>(Q3_age + 1.5 * IQR_age))]\n",
        "# TODO: Output the outliers found in the 'age' column\n",
        "print(outliers_age)"
      ]
    },
    {
      "cell_type": "code",
      "execution_count": null,
      "metadata": {
        "colab": {
          "base_uri": "https://localhost:8080/"
        },
        "id": "kR0zHVB8EtUR",
        "outputId": "608231f7-ec44-479b-e560-1d510b0db0dd"
      },
      "outputs": [
        {
          "name": "stdout",
          "output_type": "stream",
          "text": [
            "Outliers in 'Age' using IQR: \n",
            " 33     66.0\n",
            "54     65.0\n",
            "96     71.0\n",
            "116    70.5\n",
            "280    65.0\n",
            "456    65.0\n",
            "493    71.0\n",
            "630    80.0\n",
            "672    70.0\n",
            "745    70.0\n",
            "851    74.0\n",
            "Name: age, dtype: float64\n"
          ]
        }
      ],
      "source": [
        "# Import the necessary libraries\n",
        "import numpy as np\n",
        "import seaborn as sns\n",
        "\n",
        "# Load the Titanic Dataset\n",
        "titanic_df = sns.load_dataset('titanic')\n",
        "\n",
        "# TODO: Ensure that 'age' column does not have null values\n",
        "titanic_df.dropna(subset=['age'],inplace = True)\n",
        "# TODO: Compute IQR for 'age' by finding the first and third quartile and their difference\n",
        "Q1 = titanic_df['age'].quantile(0.25)\n",
        "Q3 = titanic_df['age'].quantile(0.75)\n",
        "IQR = Q3 - Q1\n",
        "# TODO: Using the computed IQR, identify and assign the outliers in 'age' to the variable outliers_age\n",
        "outliers_age = titanic_df['age'][(titanic_df['age']<(Q1 - 1.5 * IQR)) | (titanic_df['age']>(Q3+1.5*IQR))]\n",
        "# Print the outliers\n",
        "print(\"Outliers in 'Age' using IQR: \\n\", outliers_age)"
      ]
    },
    {
      "cell_type": "code",
      "execution_count": 1,
      "metadata": {
        "colab": {
          "base_uri": "https://localhost:8080/"
        },
        "id": "kEg4yQgrHbeX",
        "outputId": "26ddafaf-0306-4206-c298-326b7747b470"
      },
      "outputs": [
        {
          "name": "stdout",
          "output_type": "stream",
          "text": [
            "        fare  stand_fare\n",
            "0     7.2500   -0.502445\n",
            "1    71.2833    0.786845\n",
            "2     7.9250   -0.488854\n",
            "3    53.1000    0.420730\n",
            "4     8.0500   -0.486337\n",
            "..       ...         ...\n",
            "886  13.0000   -0.386671\n",
            "887  30.0000   -0.044381\n",
            "888  23.4500   -0.176263\n",
            "889  30.0000   -0.044381\n",
            "890   7.7500   -0.492378\n",
            "\n",
            "[891 rows x 2 columns]\n"
          ]
        }
      ],
      "source": [
        "# Import necessary libraries\n",
        "import seaborn as sns\n",
        "import pandas as pd\n",
        "from sklearn.preprocessing import StandardScaler\n",
        "\n",
        "# Load the Titanic Dataset\n",
        "titanic_df = sns.load_dataset('titanic')\n",
        "\n",
        "# Create a StandardScaler object\n",
        "scaler = StandardScaler()\n",
        "\n",
        "# Incorrectly using fit_transform on the 'fare' column with NaN values included\n",
        "# titanic_df['stand_fare'] = scaler.fit_transform(titanic_df[['fare']])\n",
        "scaler.fit(titanic_df[['fare']].dropna())\n",
        "titanic_df['stand_fare']=scaler.transform(titanic_df[['fare']])\n",
        "\n",
        "# Display standardized fare values\n",
        "print(titanic_df[['fare', 'stand_fare']])"
      ]
    },
    {
      "cell_type": "code",
      "execution_count": 1,
      "metadata": {},
      "outputs": [
        {
          "name": "stdout",
          "output_type": "stream",
          "text": [
            "      age   norm_age     fare  norm_fare\n",
            "0    22.0  27.117366   7.2500  -0.502445\n",
            "1    38.0  47.222920  71.2833   0.786845\n",
            "2    26.0  32.143755   7.9250  -0.488854\n",
            "3    35.0  43.453129  53.1000   0.420730\n",
            "4    35.0  43.453129   8.0500  -0.486337\n",
            "..    ...        ...      ...        ...\n",
            "886  27.0  33.400352  13.0000  -0.386671\n",
            "887  19.0  23.347575  30.0000  -0.044381\n",
            "888   NaN        NaN  23.4500  -0.176263\n",
            "889  26.0  32.143755  30.0000  -0.044381\n",
            "890  32.0  39.683338   7.7500  -0.492378\n",
            "\n",
            "[891 rows x 4 columns]\n"
          ]
        }
      ],
      "source": [
        "# Import necessary libraries\n",
        "import seaborn as sns\n",
        "import pandas as pd\n",
        "from sklearn.preprocessing import MinMaxScaler, StandardScaler\n",
        "\n",
        "# Load the Titanic Dataset\n",
        "titanic_df = sns.load_dataset('titanic')\n",
        "\n",
        "# Create a MinMaxScaler object with a feature range of 0 to 100\n",
        "age_scaler = MinMaxScaler(feature_range=(0, 100))\n",
        "# TODO: Create a StandardScaler object for standardizing 'fare'\n",
        "fare_scaler = StandardScaler()\n",
        "\n",
        "# Fit the age scaler on the age data without NaN values\n",
        "age_scaler.fit(titanic_df[['age']].dropna())\n",
        "# TODO: Fit the scaler on the 'fare' data without NaN values\n",
        "fare_scaler.fit(titanic_df[['fare']].dropna())\n",
        "\n",
        "# Holds the indexes for the rows with non-NaN age and fare values\n",
        "non_na_age_index = titanic_df['age'].dropna().index\n",
        "# TODO: Replace the following line with a calculation of the non-NaN fare index values\n",
        "non_na_fare_index = titanic_df['fare'].dropna().index\n",
        "\n",
        "# Transform the 'age' and 'fare' columns in the original dataframe without NaN values\n",
        "titanic_df.loc[non_na_age_index, 'norm_age'] = age_scaler.transform(titanic_df.loc[non_na_age_index, ['age']])\n",
        "# TODO: Transform the 'fare' column using the StandardScaler and non-NaN indices\n",
        "titanic_df.loc[non_na_fare_index,'norm_fare'] = fare_scaler.transform(titanic_df.loc[non_na_fare_index,['fare']])\n",
        "\n",
        "# Display transformed 'age' and standardized 'fare' values\n",
        "# TODO: Update this line to include the newly standardized 'fare' column\n",
        "print(titanic_df[['age', 'norm_age', 'fare','norm_fare']])"
      ]
    }
  ],
  "metadata": {
    "colab": {
      "authorship_tag": "ABX9TyMy5uSnj/ZlBPZNWiA63OUz",
      "include_colab_link": true,
      "provenance": []
    },
    "kernelspec": {
      "display_name": "Python 3",
      "name": "python3"
    },
    "language_info": {
      "codemirror_mode": {
        "name": "ipython",
        "version": 3
      },
      "file_extension": ".py",
      "mimetype": "text/x-python",
      "name": "python",
      "nbconvert_exporter": "python",
      "pygments_lexer": "ipython3",
      "version": "3.11.5"
    }
  },
  "nbformat": 4,
  "nbformat_minor": 0
}
