{
 "cells": [
  {
   "cell_type": "code",
   "execution_count": 2,
   "metadata": {},
   "outputs": [
    {
     "data": {
      "text/plain": [
       "0.7353489874098169"
      ]
     },
     "execution_count": 2,
     "metadata": {},
     "output_type": "execute_result"
    }
   ],
   "source": [
    "from sklearn.datasets import fetch_california_housing\n",
    "from sklearn.ensemble import RandomForestRegressor\n",
    "from sklearn.model_selection import RandomizedSearchCV\n",
    "from sklearn.model_selection import train_test_split\n",
    "from scipy.stats import randint\n",
    "X, y = fetch_california_housing(return_X_y=True)\n",
    "X_train, X_test, y_train, y_test = train_test_split(X, y, random_state=0)\n",
    "# define the parameter space that will be searched over\n",
    "param_distributions = {'n_estimators': randint(1, 5),\n",
    "                       'max_depth': randint(5, 10)}\n",
    "# now create a searchCV object and fit it to the data\n",
    "search = RandomizedSearchCV(estimator=RandomForestRegressor(random_state=0),\n",
    "                            n_iter=5,\n",
    "                            param_distributions=param_distributions,\n",
    "                            random_state=0)\n",
    "search.fit(X_train, y_train)\n",
    "search.best_params_\n",
    "\n",
    "# the search object now acts like a normal random forest estimator\n",
    "# with max_depth=9 and n_estimators=4\n",
    "search.score(X_test, y_test)"
   ]
  },
  {
   "cell_type": "code",
   "execution_count": 3,
   "metadata": {},
   "outputs": [
    {
     "name": "stdout",
     "output_type": "stream",
     "text": [
      "Length of features:  150\n",
      "Length of target:  150\n",
      "Shape of data:  (150, 4)\n",
      "Shape of target:  (150,)\n"
     ]
    }
   ],
   "source": [
    "from sklearn.datasets import load_iris\n",
    "\n",
    "# Load the Iris dataset\n",
    "iris = load_iris()\n",
    "X = iris.data\n",
    "y = iris.target\n",
    "\n",
    "# Print the length of features and target \n",
    "print(\"Length of features: \", len(X))\n",
    "print(\"Length of target: \", len(y))\n",
    "print(\"Shape of data: \",iris.data.shape)\n",
    "print(\"Shape of target: \",iris.target.shape)"
   ]
  },
  {
   "cell_type": "markdown",
   "metadata": {},
   "source": [
    "Linear regression"
   ]
  },
  {
   "cell_type": "code",
   "execution_count": 1,
   "metadata": {},
   "outputs": [
    {
     "name": "stdout",
     "output_type": "stream",
     "text": [
      "Coefficent slope [[-0.0618848]]\n",
      "Intercept [3.41894684]\n"
     ]
    }
   ],
   "source": [
    "from sklearn.datasets import load_iris\n",
    "from sklearn.linear_model import LinearRegression\n",
    "\n",
    "iris = load_iris()\n",
    "X = iris.data[:,:1]\n",
    "y = iris.data[:,1:2]\n",
    "\n",
    "lr_model = LinearRegression()\n",
    "lr_model.fit(X,y)\n",
    "print('Coefficent slope',lr_model.coef_)\n",
    "print('Intercept',lr_model.intercept_)"
   ]
  },
  {
   "cell_type": "code",
   "execution_count": 2,
   "metadata": {},
   "outputs": [
    {
     "data": {
      "image/png": "[encoded data removed]",
      "text/plain": [
       "<Figure size 640x480 with 1 Axes>"
      ]
     },
     "metadata": {},
     "output_type": "display_data"
    }
   ],
   "source": [
    "import matplotlib.pyplot as plt\n",
    "\n",
    "plt.scatter(X,y,color = 'red')\n",
    "plt.plot(X,lr_model.predict(X),color ='blue')\n",
    "plt.xlabel('Sepal length')\n",
    "plt.ylabel('Sepal width')\n",
    "plt.title('Sepal length vs Sepal width')\n",
    "plt.show()"
   ]
  },
  {
   "cell_type": "code",
   "execution_count": 1,
   "metadata": {},
   "outputs": [
    {
     "name": "stdout",
     "output_type": "stream",
     "text": [
      "Coefficent slope [0.77421249]\n",
      "Intercept -3.5239816642469117\n"
     ]
    }
   ],
   "source": [
    "from sklearn.datasets import load_iris\n",
    "from sklearn.linear_model import LinearRegression\n",
    "\n",
    "iris = load_iris()\n",
    "X = iris.data[:,:1]\n",
    "y = iris.target\n",
    "\n",
    "lr_model = LinearRegression()\n",
    "lr_model.fit(X,y)\n",
    "print('Coefficent slope',lr_model.coef_)\n",
    "print('Intercept',lr_model.intercept_)"
   ]
  },
  {
   "cell_type": "code",
   "execution_count": 1,
   "metadata": {},
   "outputs": [
    {
     "name": "stdout",
     "output_type": "stream",
     "text": [
      "Coefficients: \n",
      " [-0.19880012  0.52662694]\n",
      "Intercept: \n",
      " 0.18040654767282194\n"
     ]
    }
   ],
   "source": [
    "# Import the necessary libraries\n",
    "from sklearn.linear_model import LinearRegression\n",
    "from sklearn.datasets import load_iris\n",
    "from sklearn.model_selection import train_test_split\n",
    "\n",
    "# Load the Iris dataset\n",
    "iris = load_iris()\n",
    "X = iris.data[:, [0, 2]]  # Selecting only sepal length and petal length features\n",
    "y = iris.target\n",
    "\n",
    "# TODO: Split dataset into training set and testing set with 30% of the data reserved for testing\n",
    "X_train,X_test,y_train,y_test = train_test_split(X,y,test_size = 0.3,random_state =42)\n",
    "# Create a Linear Regression object\n",
    "lr = LinearRegression()\n",
    "# Train the model using only the training sets\n",
    "lr.fit(X_train,y_train)\n",
    "# Print the model parameters\n",
    "print('Coefficients: \\n', lr.coef_)\n",
    "print('Intercept: \\n', lr.intercept_)\n"
   ]
  },
  {
   "cell_type": "markdown",
   "metadata": {},
   "source": [
    "Linear Regression"
   ]
  },
  {
   "cell_type": "code",
   "execution_count": 1,
   "metadata": {},
   "outputs": [
    {
     "name": "stdout",
     "output_type": "stream",
     "text": [
      "Training score:  0.9619047619047619\n"
     ]
    }
   ],
   "source": [
    "# Import the necessary libraries\n",
    "from sklearn.datasets import load_iris\n",
    "from sklearn.model_selection import train_test_split\n",
    "from sklearn.linear_model import LogisticRegression\n",
    "\n",
    "# Load the Iris dataset\n",
    "iris = load_iris()\n",
    "\n",
    "# Split the data into a training and test set\n",
    "X_train, X_test, y_train, y_test = train_test_split(iris.data, iris.target, test_size=0.3, random_state=42)\n",
    "\n",
    "# Initialize a Logistic Regression model\n",
    "lr_model = LogisticRegression(solver='liblinear', multi_class='ovr')\n",
    "\n",
    "# Fit the model with the training data\n",
    "lr_model.fit(X_train, y_train)\n",
    "\n",
    "# Print training score\n",
    "print(\"Training score: \", lr_model.score(X_train, y_train))"
   ]
  },
  {
   "cell_type": "code",
   "execution_count": 1,
   "metadata": {},
   "outputs": [
    {
     "name": "stdout",
     "output_type": "stream",
     "text": [
      "0.1911148270230101\n"
     ]
    }
   ],
   "source": [
    "from sklearn.metrics import mean_absolute_error\n",
    "from sklearn.linear_model import LinearRegression\n",
    "from sklearn.model_selection import train_test_split\n",
    "from sklearn.datasets import load_iris\n",
    "\n",
    "# Load the Iris dataset\n",
    "iris = load_iris()\n",
    "X = iris.data\n",
    "y = iris.target\n",
    "\n",
    "# Split the data into Training and Test sets\n",
    "X_train, X_test, y_train, y_test = train_test_split(X, y, test_size=0.3, random_state=1)\n",
    "\n",
    "# Instantiate and train a Linear Regression model\n",
    "lr_model = LinearRegression()\n",
    "lr_model.fit(X_train, y_train)\n",
    "\n",
    "# TODO: Use the trained model to predict the labels of the Test set\n",
    "y_pred = lr_model.predict(X_test)\n",
    "# TODO: Calculate the Mean Absolute Error between predicted and actual labels\n",
    "mse = mean_absolute_error(y_test,y_pred)\n",
    "print(mse)\n"
   ]
  },
  {
   "cell_type": "code",
   "execution_count": 1,
   "metadata": {},
   "outputs": [
    {
     "name": "stdout",
     "output_type": "stream",
     "text": [
      "{'max_depth': 4, 'min_samples_leaf': 6, 'min_samples_split': 7}\n"
     ]
    }
   ],
   "source": [
    "# Import necessary libraries\n",
    "from sklearn.datasets import load_iris\n",
    "from sklearn.model_selection import RandomizedSearchCV\n",
    "from sklearn.tree import DecisionTreeClassifier\n",
    "from scipy.stats import randint\n",
    "\n",
    "# Load the Iris dataset\n",
    "iris = load_iris()\n",
    "\n",
    "# TODO: Define the hyperparameter distributions for 'max_depth', 'min_samples_split', and 'min_samples_leaf'\n",
    "params = {'max_depth':randint(1,10,2),'min_samples_split':randint(1,10,4),'min_samples_leaf':randint(1,10,5)}\n",
    "\n",
    "# Create the model which is a Decision Tree Classifier\n",
    "decision_tree = DecisionTreeClassifier()\n",
    "\n",
    "# Create the RandomizedSearchCV instance for hyperparameter tuning\n",
    "random_search_cv = RandomizedSearchCV(decision_tree, params)\n",
    "\n",
    "# Fit the model to our data\n",
    "random_search_cv.fit(iris.data, iris.target)\n",
    "\n",
    "# TODO: Output the best hyperparameters found for our model\n",
    "print(random_search_cv.best_params_)"
   ]
  }
 ],
 "metadata": {
  "kernelspec": {
   "display_name": "Python 3",
   "language": "python",
   "name": "python3"
  },
  "language_info": {
   "codemirror_mode": {
    "name": "ipython",
    "version": 3
   },
   "file_extension": ".py",
   "mimetype": "text/x-python",
   "name": "python",
   "nbconvert_exporter": "python",
   "pygments_lexer": "ipython3",
   "version": "3.11.7"
  }
 },
 "nbformat": 4,
 "nbformat_minor": 2
}
